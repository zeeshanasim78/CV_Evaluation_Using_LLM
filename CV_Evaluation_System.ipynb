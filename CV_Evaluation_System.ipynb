{
  "nbformat": 4,
  "nbformat_minor": 0,
  "metadata": {
    "colab": {
      "provenance": []
    },
    "kernelspec": {
      "name": "python3",
      "display_name": "Python 3"
    },
    "language_info": {
      "name": "python"
    }
  },
  "cells": [
    {
      "cell_type": "markdown",
      "source": [
        "# CV Evaluation System\n",
        "\n",
        "In the hiring process, recruiters and HR professionals often need to evaluate a large number of resumes to identify the most suitable candidates for a given job position. This process is time-consuming, requiring manual review of resumes against the job description, and may introduce human biases."
      ],
      "metadata": {
        "id": "CeZ8IbFQcajR"
      }
    },
    {
      "cell_type": "code",
      "source": [
        "# Install the required Packages / Libraries\n",
        "%%capture --no-stderr\n",
        "%pip install langchain langchain_google_genai PyMuPDF --quiet"
      ],
      "metadata": {
        "id": "AKtoGIdmLwhz"
      },
      "execution_count": 13,
      "outputs": []
    },
    {
      "cell_type": "code",
      "execution_count": 14,
      "metadata": {
        "id": "U-OH8cEELkFH"
      },
      "outputs": [],
      "source": [
        "from langchain.chains import LLMChain\n",
        "from langchain.prompts import PromptTemplate\n",
        "from langchain_google_genai import ChatGoogleGenerativeAI\n",
        "from google.colab import userdata\n",
        "from langchain_core.runnables import RunnablePassthrough"
      ]
    },
    {
      "cell_type": "code",
      "source": [
        "template = \"\"\"\n",
        "You are an HR assistant. Evaluate the resume based on the job description.\n",
        "Job Description: {job_description}\n",
        "Resume: {resume}\n",
        "\n",
        "Provide a score from 1 to 10 and give a short reason for the score.\n",
        "\"\"\"\n",
        "\n",
        "prompt = PromptTemplate(input_variables=[\"job_description\", \"resume\"], template=template)"
      ],
      "metadata": {
        "id": "3BZyTWwqMse1"
      },
      "execution_count": 15,
      "outputs": []
    },
    {
      "cell_type": "code",
      "source": [
        "llm = ChatGoogleGenerativeAI(model=\"gemini-2.0-flash\",\n",
        "                             verbose=True,\n",
        "                             temperature=0.0,\n",
        "                             google_api_key=userdata.get(\"GOOGLE_API_KEY\"))"
      ],
      "metadata": {
        "id": "Yy9x6KIIPCAl"
      },
      "execution_count": 16,
      "outputs": []
    },
    {
      "cell_type": "code",
      "source": [
        "job_description = \"\"\"\n",
        "We are looking for a software engineer with experience in Python, machine learning, and cloud computing.\n",
        "The ideal candidate will have strong problem-solving skills and the ability to work in a team environment.\n",
        "\"\"\""
      ],
      "metadata": {
        "id": "V8pekFrgN6Tl"
      },
      "execution_count": 17,
      "outputs": []
    },
    {
      "cell_type": "markdown",
      "source": [
        "# Prepare the Chain\n",
        "\n"
      ],
      "metadata": {
        "id": "ktHyeJbtcVTy"
      }
    },
    {
      "cell_type": "code",
      "source": [
        "chain = (\n",
        "             {\"job_description\": RunnablePassthrough(), \"resume\": RunnablePassthrough()}\n",
        "             | prompt\n",
        "        | llm\n",
        "    )"
      ],
      "metadata": {
        "id": "aCESacjBRkYM"
      },
      "execution_count": 18,
      "outputs": []
    },
    {
      "cell_type": "markdown",
      "source": [
        "uses RunnablePassthrough() to pass the input and output between the prompt and the model, creating a more flexible chain."
      ],
      "metadata": {
        "id": "vNnQVtfgaEBS"
      }
    },
    {
      "cell_type": "code",
      "source": [
        "import fitz  # PyMuPDF\n",
        "\n",
        "# Function to extract text from PDF\n",
        "def extract_text_from_pdf(pdf_path):\n",
        "    doc = fitz.open(pdf_path)\n",
        "    text = \"\"\n",
        "    for page in doc:\n",
        "        text += page.get_text()\n",
        "    return text"
      ],
      "metadata": {
        "id": "QDWas0HhQTIa"
      },
      "execution_count": 19,
      "outputs": []
    },
    {
      "cell_type": "code",
      "source": [
        "#pdf_path = \"/content/resume.pdf\"\n",
        "pdf_path=\"/content/sample-cv.pdf\"\n",
        "pdf_path2=\"/content/sample-cv2.pdf\""
      ],
      "metadata": {
        "id": "vqwGQbP5b7i0"
      },
      "execution_count": 26,
      "outputs": []
    },
    {
      "cell_type": "code",
      "source": [
        "resume_text = extract_text_from_pdf(pdf_path2)"
      ],
      "metadata": {
        "id": "nw6_O5P-b6zX"
      },
      "execution_count": 27,
      "outputs": []
    },
    {
      "cell_type": "code",
      "source": [
        "resume_text"
      ],
      "metadata": {
        "colab": {
          "base_uri": "https://localhost:8080/",
          "height": 191
        },
        "id": "HO2Nn7NMcGBS",
        "outputId": "5d7d2ad5-9c4b-4e53-d419-6a0ce5cc585c"
      },
      "execution_count": 28,
      "outputs": [
        {
          "output_type": "execute_result",
          "data": {
            "text/plain": [
              "'Jane Doe \\nCity, State 1 (123) 456-78901@gmail.com \\nEDUCATION \\nUniversity \\nCity, State \\nBachelor of Science in Computer Information Technology \\nAugust 2019 \\nEXPERIENCE \\nCompany \\nCity, State \\nTechnology Business Systems Associate \\nJune 2021 - June 2023 \\n• \\nTrack vulnerabilities and vulnerability patches for 200+ Windows and Linux based servers using Jira. \\n• \\nIncorporate strategies with 5+ engineers to coordinate the resolution of vulnerabilities to avoid further escalation. \\n• \\nCreate reports using PowerBI to conduct trend analysis for recurring vulnerabilities. \\n• \\nCoordinate project plans, schedules and assist with IT technical writing in Confluence. \\n• \\nAssist with maintenance of information security policies, standards, guidelines based on compliance requirements. \\nCompany \\nCity, State \\nLoan Documentation Processor \\nMay 2020 — June 2021 \\n• \\nObtained and verified copies of loan applicants credit histories, financial and employment information. \\n• \\nLead virtual training sessions and resolve questions for new Loan Documentation Processors. \\n• \\nCalculate income to validate that the borrower qualifies for the mortgage. \\n• \\nSupport HMCs in helping to complete a correct loan application. \\nCompany \\nCity, State \\nTechnical Support Representative \\n.lanualy 2019 — May 2020 \\n• \\nProvide fast and efficient customer service to end-users and internal Trimble teams. \\n• \\nDeliver advanced technical support on problems of diverse scope. \\n• \\nMaintain updated knowledge of company products and services to better provide customer support and service \\nsolutions. \\nSKILLS & CERTIFICATIONS \\nSkills: Agile, Jira, Confluence, ServiceNow, PowerBI, Python, SQL, Tableau, Microsoft Office and Excel, Critical \\nThinking, Leadership, Teamwork, Time Management. \\nCertifications: Microsoft Azure Fundamentals \\n'"
            ],
            "application/vnd.google.colaboratory.intrinsic+json": {
              "type": "string"
            }
          },
          "metadata": {},
          "execution_count": 28
        }
      ]
    },
    {
      "cell_type": "code",
      "source": [
        "chain.invoke({\"job_description\": job_description, \"resume\": resume_text}).content\n"
      ],
      "metadata": {
        "colab": {
          "base_uri": "https://localhost:8080/",
          "height": 122
        },
        "id": "LOOF92-ZcHjC",
        "outputId": "478a2245-e5c6-4c17-89eb-f7b2b365093a"
      },
      "execution_count": 29,
      "outputs": [
        {
          "output_type": "execute_result",
          "data": {
            "text/plain": [
              "\"Score: 6/10\\n\\nReason: The resume shows some potential, particularly with the listed Python skill and Azure Fundamentals certification. The Technology Business Systems Associate role also hints at relevant experience. However, the resume lacks explicit examples of machine learning experience and doesn't showcase the depth of Python or cloud computing skills needed for a Software Engineer role. The other roles are less relevant. More detail and quantifiable achievements in relevant areas would significantly improve the resume.\""
            ],
            "application/vnd.google.colaboratory.intrinsic+json": {
              "type": "string"
            }
          },
          "metadata": {},
          "execution_count": 29
        }
      ]
    },
    {
      "cell_type": "code",
      "source": [],
      "metadata": {
        "id": "b2zTXpFHcPce"
      },
      "execution_count": null,
      "outputs": []
    }
  ]
}